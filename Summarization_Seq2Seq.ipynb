{
  "nbformat": 4,
  "nbformat_minor": 0,
  "metadata": {
    "colab": {
      "name": "Summarization_Seq2Seq.ipynb",
      "provenance": [],
      "private_outputs": true,
      "authorship_tag": "ABX9TyOgnvbBSjRmp/xIyExwCxLO",
      "include_colab_link": true
    },
    "kernelspec": {
      "name": "python3",
      "display_name": "Python 3"
    },
    "accelerator": "GPU"
  },
  "cells": [
    {
      "cell_type": "markdown",
      "metadata": {
        "id": "view-in-github",
        "colab_type": "text"
      },
      "source": [
        "<a href=\"https://colab.research.google.com/github/BabritB/neural-networks/blob/master/Summarization_Seq2Seq.ipynb\" target=\"_parent\"><img src=\"https://colab.research.google.com/assets/colab-badge.svg\" alt=\"Open In Colab\"/></a>"
      ]
    },
    {
      "cell_type": "code",
      "metadata": {
        "id": "Hu01A5qzIvfY",
        "colab_type": "code",
        "colab": {}
      },
      "source": [
        "!pip install kaggle"
      ],
      "execution_count": 0,
      "outputs": []
    },
    {
      "cell_type": "code",
      "metadata": {
        "id": "5RzQCAQxJqhq",
        "colab_type": "code",
        "colab": {}
      },
      "source": [
        "from google.colab import files\n",
        "files.upload()"
      ],
      "execution_count": 0,
      "outputs": []
    },
    {
      "cell_type": "code",
      "metadata": {
        "id": "USveYwaCJwgq",
        "colab_type": "code",
        "colab": {}
      },
      "source": [
        "! mkdir  ~/.kaggle\n",
        "!cp kaggle.json ~/.kaggle/"
      ],
      "execution_count": 0,
      "outputs": []
    },
    {
      "cell_type": "code",
      "metadata": {
        "id": "n5lmKNqrNQuE",
        "colab_type": "code",
        "colab": {}
      },
      "source": [
        "! chmod 600 ~/.kaggle/kaggle.json\n"
      ],
      "execution_count": 0,
      "outputs": []
    },
    {
      "cell_type": "code",
      "metadata": {
        "id": "SzrGaKARNVMA",
        "colab_type": "code",
        "colab": {}
      },
      "source": [
        "!kaggle datasets download -d snap/amazon-fine-food-reviews"
      ],
      "execution_count": 0,
      "outputs": []
    },
    {
      "cell_type": "code",
      "metadata": {
        "id": "RlfhKnsUNlPd",
        "colab_type": "code",
        "colab": {}
      },
      "source": [
        "from zipfile import ZipFile\n",
        "file_name = 'amazon-fine-food-reviews.zip'\n",
        "with ZipFile(file_name,'r') as zip:\n",
        "   zip.extractall()\n",
        "print('Done')"
      ],
      "execution_count": 0,
      "outputs": []
    },
    {
      "cell_type": "code",
      "metadata": {
        "id": "TuWN6JpSQMGd",
        "colab_type": "code",
        "colab": {}
      },
      "source": [
        "import pandas as pd\n",
        "Data = pd.read_csv('Reviews.csv')\n",
        "print(Data.head())"
      ],
      "execution_count": 0,
      "outputs": []
    },
    {
      "cell_type": "code",
      "metadata": {
        "id": "FcNcXPAvQcOO",
        "colab_type": "code",
        "colab": {}
      },
      "source": [
        "Data.columns"
      ],
      "execution_count": 0,
      "outputs": []
    },
    {
      "cell_type": "code",
      "metadata": {
        "id": "Y_DFkeikQlOB",
        "colab_type": "code",
        "colab": {}
      },
      "source": [
        "import tensorflow as tf\n",
        "import numpy as np\n",
        "import pandas as pd\n",
        "import re\n",
        "import nltk\n",
        "from nltk.corpus import stopwords\n",
        "import matplotlib.pyplot as plt\n",
        "import seaborn as sns\n",
        "import matplotlib.style as style\n",
        "from keras.preprocessing.text import Tokenizer\n",
        "from keras.preprocessing.sequence import pad_sequences\n",
        "# from keras.models import Sequential,Model\n",
        "# from keras.layers import Dense,Embedding,LSTM,Bidirectional,Dropout,Concatenate,TimeDistributed,Input\n",
        "\n",
        "from tensorflow.keras.layers import Input, LSTM, Embedding, Dense, Concatenate, TimeDistributed\n",
        "from tensorflow.keras.models import Model\n",
        "from tensorflow.keras.callbacks import EarlyStopping"
      ],
      "execution_count": 0,
      "outputs": []
    },
    {
      "cell_type": "code",
      "metadata": {
        "id": "QIJZVEb5QpZ6",
        "colab_type": "code",
        "colab": {}
      },
      "source": [
        "data=pd.read_csv('Reviews.csv')"
      ],
      "execution_count": 0,
      "outputs": []
    },
    {
      "cell_type": "code",
      "metadata": {
        "id": "5WGA1E7CQs7x",
        "colab_type": "code",
        "colab": {}
      },
      "source": [
        "data.drop_duplicates(subset=['Text'],inplace=True)"
      ],
      "execution_count": 0,
      "outputs": []
    },
    {
      "cell_type": "code",
      "metadata": {
        "id": "xIl3TUZ6Q5g_",
        "colab_type": "code",
        "colab": {}
      },
      "source": [
        "data.dropna(axis=0,inplace=True)"
      ],
      "execution_count": 0,
      "outputs": []
    },
    {
      "cell_type": "code",
      "metadata": {
        "id": "2T6KQBmTQ7ez",
        "colab_type": "code",
        "colab": {}
      },
      "source": [
        "# Preprocessing:\n",
        "#Contraction dictionary:"
      ],
      "execution_count": 0,
      "outputs": []
    },
    {
      "cell_type": "code",
      "metadata": {
        "id": "_4l_lqT4Q9jS",
        "colab_type": "code",
        "colab": {}
      },
      "source": [
        "contraction_mapping = {\"ain't\": \"is not\", \"aren't\": \"are not\",\"can't\": \"cannot\", \"'cause\": \"because\", \"could've\": \"could have\", \"couldn't\": \"could not\",\n",
        "\n",
        "                           \"didn't\": \"did not\", \"doesn't\": \"does not\", \"don't\": \"do not\", \"hadn't\": \"had not\", \"hasn't\": \"has not\", \"haven't\": \"have not\",\n",
        "\n",
        "                           \"he'd\": \"he would\",\"he'll\": \"he will\", \"he's\": \"he is\", \"how'd\": \"how did\", \"how'd'y\": \"how do you\", \"how'll\": \"how will\", \"how's\": \"how is\",\n",
        "\n",
        "                           \"I'd\": \"I would\", \"I'd've\": \"I would have\", \"I'll\": \"I will\", \"I'll've\": \"I will have\",\"I'm\": \"I am\", \"I've\": \"I have\", \"i'd\": \"i would\",\n",
        "\n",
        "                           \"i'd've\": \"i would have\", \"i'll\": \"i will\",  \"i'll've\": \"i will have\",\"i'm\": \"i am\", \"i've\": \"i have\", \"isn't\": \"is not\", \"it'd\": \"it would\",\n",
        "\n",
        "                           \"it'd've\": \"it would have\", \"it'll\": \"it will\", \"it'll've\": \"it will have\",\"it's\": \"it is\", \"let's\": \"let us\", \"ma'am\": \"madam\",\n",
        "\n",
        "                           \"mayn't\": \"may not\", \"might've\": \"might have\",\"mightn't\": \"might not\",\"mightn't've\": \"might not have\", \"must've\": \"must have\",\n",
        "\n",
        "                           \"mustn't\": \"must not\", \"mustn't've\": \"must not have\", \"needn't\": \"need not\", \"needn't've\": \"need not have\",\"o'clock\": \"of the clock\",\n",
        "\n",
        "                           \"oughtn't\": \"ought not\", \"oughtn't've\": \"ought not have\", \"shan't\": \"shall not\", \"sha'n't\": \"shall not\", \"shan't've\": \"shall not have\",\n",
        "\n",
        "                           \"she'd\": \"she would\", \"she'd've\": \"she would have\", \"she'll\": \"she will\", \"she'll've\": \"she will have\", \"she's\": \"she is\",\n",
        "\n",
        "                           \"should've\": \"should have\", \"shouldn't\": \"should not\", \"shouldn't've\": \"should not have\", \"so've\": \"so have\",\"so's\": \"so as\",\n",
        "\n",
        "                           \"this's\": \"this is\",\"that'd\": \"that would\", \"that'd've\": \"that would have\", \"that's\": \"that is\", \"there'd\": \"there would\",\n",
        "\n",
        "                           \"there'd've\": \"there would have\", \"there's\": \"there is\", \"here's\": \"here is\",\"they'd\": \"they would\", \"they'd've\": \"they would have\",\n",
        "\n",
        "                           \"they'll\": \"they will\", \"they'll've\": \"they will have\", \"they're\": \"they are\", \"they've\": \"they have\", \"to've\": \"to have\",\n",
        "\n",
        "                           \"wasn't\": \"was not\", \"we'd\": \"we would\", \"we'd've\": \"we would have\", \"we'll\": \"we will\", \"we'll've\": \"we will have\", \"we're\": \"we are\",\n",
        "\n",
        "                           \"we've\": \"we have\", \"weren't\": \"were not\", \"what'll\": \"what will\", \"what'll've\": \"what will have\", \"what're\": \"what are\",\n",
        "\n",
        "                           \"what's\": \"what is\", \"what've\": \"what have\", \"when's\": \"when is\", \"when've\": \"when have\", \"where'd\": \"where did\", \"where's\": \"where is\",\n",
        "\n",
        "                           \"where've\": \"where have\", \"who'll\": \"who will\", \"who'll've\": \"who will have\", \"who's\": \"who is\", \"who've\": \"who have\",\n",
        "\n",
        "                           \"why's\": \"why is\", \"why've\": \"why have\", \"will've\": \"will have\", \"won't\": \"will not\", \"won't've\": \"will not have\",\n",
        "\n",
        "                           \"would've\": \"would have\", \"wouldn't\": \"would not\", \"wouldn't've\": \"would not have\", \"y'all\": \"you all\",\n",
        "\n",
        "                           \"y'all'd\": \"you all would\",\"y'all'd've\": \"you all would have\",\"y'all're\": \"you all are\",\"y'all've\": \"you all have\",\n",
        "\n",
        "                           \"you'd\": \"you would\", \"you'd've\": \"you would have\", \"you'll\": \"you will\", \"you'll've\": \"you will have\",\n",
        "\n",
        "                           \"you're\": \"you are\", \"you've\": \"you have\"}"
      ],
      "execution_count": 0,
      "outputs": []
    },
    {
      "cell_type": "code",
      "metadata": {
        "id": "7CJ5SSHFRA7u",
        "colab_type": "code",
        "colab": {}
      },
      "source": [
        "#Presprocessing Task:\n",
        "# Convert everything to lowercase\n",
        "# Remove HTML tags\n",
        "# Contraction mapping\n",
        "# Remove (‘s)\n",
        "# Remove any text inside the parenthesis ( )\n",
        "# Eliminate punctuations and special characters\n",
        "# Remove stopwords\n",
        "# Remove short word\n",
        "nltk.download('stopwords')\n",
        "STOP_WORDS=stopwords.words('english')"
      ],
      "execution_count": 0,
      "outputs": []
    },
    {
      "cell_type": "code",
      "metadata": {
        "id": "nG8MNvzlRG07",
        "colab_type": "code",
        "colab": {}
      },
      "source": [
        "HTML_RE=re.compile(r'<[^>]+>')\n",
        "STOP_WORDS=stopwords.words('english')\n",
        "def text_clean_helper(text):\n",
        "    new_txt=text.lower()\n",
        "    new_txt=HTML_RE.sub('',new_txt)\n",
        "    new_txt=' '.join([contraction_mapping[txt] if txt in contraction_mapping else txt for txt in new_txt.split()])\n",
        "    new_txt=re.sub(r\"'s\\b\",\"\",new_txt)\n",
        "    new_txt=re.sub(\"[^a-zA-Z]\", \" \", new_txt)\n",
        "    new_txt=' '.join([word.strip() for word in new_txt.split() if word not in STOP_WORDS])\n",
        "    return new_txt"
      ],
      "execution_count": 0,
      "outputs": []
    },
    {
      "cell_type": "code",
      "metadata": {
        "id": "PqWKDe7tRI9c",
        "colab_type": "code",
        "colab": {}
      },
      "source": [
        "data['Text']=data['Text'].apply(lambda x:text_clean_helper(x))\n",
        "data['Summary']=data['Summary'].apply(lambda x:text_clean_helper(x))"
      ],
      "execution_count": 0,
      "outputs": []
    },
    {
      "cell_type": "code",
      "metadata": {
        "id": "hojpHdpkRvxu",
        "colab_type": "code",
        "colab": {}
      },
      "source": [
        "# Add the START and END tag in Summary as it will be the target:\n",
        "data['Summary']=data['Summary'].apply(lambda x:'<START> '+x+' <END>')"
      ],
      "execution_count": 0,
      "outputs": []
    },
    {
      "cell_type": "code",
      "metadata": {
        "id": "aHobie74R3ct",
        "colab_type": "code",
        "colab": {}
      },
      "source": [
        "# Length distribution of Text and Summary:\n",
        "text_len=[]\n",
        "summary_len=[]\n",
        "for sent in data['Text']:\n",
        "    text_len.append(len(sent.split()))\n",
        "for sent in data['Summary']:\n",
        "    summary_len.append(len(sent.split()))"
      ],
      "execution_count": 0,
      "outputs": []
    },
    {
      "cell_type": "code",
      "metadata": {
        "id": "hp_oZJoFR6iq",
        "colab_type": "code",
        "colab": {}
      },
      "source": [
        "length_df=pd.DataFrame({'Text':text_len,'Summary':summary_len})\n",
        "style.use('fivethirtyeight')\n",
        "sns.distplot(length_df['Text'])"
      ],
      "execution_count": 0,
      "outputs": []
    },
    {
      "cell_type": "code",
      "metadata": {
        "id": "SKl--Uj4SDb0",
        "colab_type": "code",
        "colab": {}
      },
      "source": [
        "style.use('fivethirtyeight')\n",
        "sns.distplot(length_df['Summary'])"
      ],
      "execution_count": 0,
      "outputs": []
    },
    {
      "cell_type": "code",
      "metadata": {
        "id": "FSTdiKPYSGal",
        "colab_type": "code",
        "colab": {}
      },
      "source": [
        "# max len majority in Text is 80 and for summary 10:\n",
        "max_len_text=80 \n",
        "max_len_summary=10"
      ],
      "execution_count": 0,
      "outputs": []
    },
    {
      "cell_type": "code",
      "metadata": {
        "id": "rI80k9usSKhh",
        "colab_type": "code",
        "colab": {}
      },
      "source": [
        "# Train test split:\n",
        "from sklearn.model_selection import train_test_split\n",
        "X_train,X_test,y_train,y_test=train_test_split(np.array(data['Text']),np.array(data['Summary']),test_size=0.1,random_state=0,shuffle=True)"
      ],
      "execution_count": 0,
      "outputs": []
    },
    {
      "cell_type": "code",
      "metadata": {
        "id": "xqqwH9G0SOn3",
        "colab_type": "code",
        "colab": {}
      },
      "source": [
        "# Preparing Tokenizers for both Text and Summary:\n",
        "text_tokenizer=Tokenizer()\n",
        "text_tokenizer.fit_on_texts(list(X_train))"
      ],
      "execution_count": 0,
      "outputs": []
    },
    {
      "cell_type": "code",
      "metadata": {
        "id": "cl9QYYcXSQmX",
        "colab_type": "code",
        "colab": {}
      },
      "source": [
        "X_train_seq=text_tokenizer.texts_to_sequences(X_train)\n",
        "X_test_seq=text_tokenizer.texts_to_sequences(X_test)\n",
        "\n",
        "X_train_pad=pad_sequences(X_train_seq,maxlen=max_len_text,padding='post')\n",
        "X_test_pad=pad_sequences(X_test_seq,maxlen=max_len_text,padding='post')"
      ],
      "execution_count": 0,
      "outputs": []
    },
    {
      "cell_type": "code",
      "metadata": {
        "id": "iLG3QQmGSUgw",
        "colab_type": "code",
        "colab": {}
      },
      "source": [
        "sum_tokenizer=Tokenizer()\n",
        "sum_tokenizer.fit_on_texts(list(y_train))\n",
        "y_train_seq=sum_tokenizer.texts_to_sequences(y_train)\n",
        "y_test_seq=sum_tokenizer.texts_to_sequences(y_test)\n",
        "\n",
        "y_train_pad=pad_sequences(y_train_seq,maxlen=max_len_summary,padding='post')\n",
        "y_test_pad=pad_sequences(y_test_seq,maxlen=max_len_summary,padding='post')"
      ],
      "execution_count": 0,
      "outputs": []
    },
    {
      "cell_type": "code",
      "metadata": {
        "id": "8wN-MsbvSc_c",
        "colab_type": "code",
        "colab": {}
      },
      "source": [
        "VOCAB_SIZE_SUM=len(sum_tokenizer.word_index)+1\n",
        "y_test_pad.shape\n",
        "VOCAB_SIZE_TXT=len(text_tokenizer.word_index)+1\n",
        "VOCAB_SIZE_TXT"
      ],
      "execution_count": 0,
      "outputs": []
    },
    {
      "cell_type": "code",
      "metadata": {
        "id": "Cxc2c6sDSgXh",
        "colab_type": "code",
        "colab": {}
      },
      "source": [
        ""
      ],
      "execution_count": 0,
      "outputs": []
    },
    {
      "cell_type": "markdown",
      "metadata": {
        "id": "HJQ8y6KqSlLP",
        "colab_type": "text"
      },
      "source": [
        "## Model Building:"
      ]
    },
    {
      "cell_type": "code",
      "metadata": {
        "id": "BBQoWWWxSng6",
        "colab_type": "code",
        "colab": {}
      },
      "source": [
        "from attention import AttentionLayer\n",
        "from keras import backend as K \n",
        "K.clear_session()\n",
        "\n",
        "latent_dim = 300\n",
        "embedding_dim=100\n",
        "\n",
        "# Encoder\n",
        "encoder_inputs = Input(shape=(max_len_text,))\n",
        "\n",
        "#embedding layer\n",
        "enc_emb =  Embedding(VOCAB_SIZE_TXT, embedding_dim,trainable=True)(encoder_inputs)\n",
        "\n",
        "#encoder lstm 1\n",
        "encoder_lstm1 = LSTM(latent_dim,return_sequences=True,return_state=True,dropout=0.4,recurrent_dropout=0.4)\n",
        "encoder_output1, state_h1, state_c1 = encoder_lstm1(enc_emb)\n",
        "\n",
        "#encoder lstm 2\n",
        "encoder_lstm2 = LSTM(latent_dim,return_sequences=True,return_state=True,dropout=0.4,recurrent_dropout=0.4)\n",
        "encoder_output2, state_h2, state_c2 = encoder_lstm2(encoder_output1)\n",
        "\n",
        "#encoder lstm 3\n",
        "encoder_lstm3=LSTM(latent_dim, return_state=True, return_sequences=True,dropout=0.4,recurrent_dropout=0.4)\n",
        "encoder_outputs, state_h, state_c= encoder_lstm3(encoder_output2)\n",
        "\n",
        "# Set up the decoder, using `encoder_states` as initial state.\n",
        "decoder_inputs = Input(shape=(None,))\n",
        "\n",
        "#embedding layer\n",
        "dec_emb_layer = Embedding(VOCAB_SIZE_SUM, embedding_dim,trainable=True)\n",
        "dec_emb = dec_emb_layer(decoder_inputs)\n",
        "\n",
        "decoder_lstm = LSTM(latent_dim, return_sequences=True, return_state=True,dropout=0.4,recurrent_dropout=0.2)\n",
        "decoder_outputs,decoder_fwd_state, decoder_back_state = decoder_lstm(dec_emb,initial_state=[state_h, state_c])\n",
        "\n",
        "# Attention layer\n",
        "attn_layer = AttentionLayer(name='attention_layer')\n",
        "attn_out, attn_states = attn_layer([encoder_outputs, decoder_outputs])\n",
        "\n",
        "# Concat attention input and decoder LSTM output\n",
        "decoder_concat_input = Concatenate(axis=-1, name='concat_layer')([decoder_outputs, attn_out])\n",
        "\n",
        "#dense layer\n",
        "decoder_dense =  TimeDistributed(Dense(VOCAB_SIZE_SUM, activation='softmax'))\n",
        "decoder_outputs = decoder_dense(decoder_concat_input)\n",
        "\n",
        "# Define the model \n",
        "model = Model([encoder_inputs, decoder_inputs], decoder_outputs)\n",
        "\n",
        "model.summary()"
      ],
      "execution_count": 0,
      "outputs": []
    },
    {
      "cell_type": "code",
      "metadata": {
        "id": "-C2bpH8kS1n7",
        "colab_type": "code",
        "colab": {}
      },
      "source": [
        "model.compile(optimizer='rmsprop', loss='sparse_categorical_crossentropy')"
      ],
      "execution_count": 0,
      "outputs": []
    },
    {
      "cell_type": "code",
      "metadata": {
        "id": "MM-mZVtrTJCD",
        "colab_type": "code",
        "colab": {}
      },
      "source": [
        "early_stop = EarlyStopping(monitor='val_loss', mode='min', verbose=1,patience=2)"
      ],
      "execution_count": 0,
      "outputs": []
    },
    {
      "cell_type": "code",
      "metadata": {
        "id": "LzVPoZvWTLQr",
        "colab_type": "code",
        "colab": {}
      },
      "source": [
        "history=model.fit([X_train_pad,y_train_pad[:,:-1]], y_train_pad.reshape(y_train_pad.shape[0],y_train_pad.shape[1], 1)[:,1:] ,\n",
        "                  epochs=10,batch_size=128, \n",
        "                  validation_data=([X_test_pad,y_test_pad[:,:-1]],\n",
        "                  y_test_pad.reshape(y_test_pad.shape[0],y_test_pad.shape[1], 1)[:,1:])\n",
        "                 )"
      ],
      "execution_count": 0,
      "outputs": []
    },
    {
      "cell_type": "code",
      "metadata": {
        "id": "ERwHBLlkTN8_",
        "colab_type": "code",
        "colab": {}
      },
      "source": [
        ""
      ],
      "execution_count": 0,
      "outputs": []
    }
  ]
}